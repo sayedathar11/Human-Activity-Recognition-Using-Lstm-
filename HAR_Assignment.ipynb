{
 "cells": [
  {
   "cell_type": "markdown",
   "metadata": {},
   "source": [
    "# Data Loading and Preprocessing"
   ]
  },
  {
   "cell_type": "code",
   "execution_count": 40,
   "metadata": {},
   "outputs": [],
   "source": [
    "import pandas as pd\n",
    "import numpy as np"
   ]
  },
  {
   "cell_type": "code",
   "execution_count": 41,
   "metadata": {},
   "outputs": [],
   "source": [
    "# Activities are the class labels\n",
    "# It is a 6 class classification\n",
    "ACTIVITIES = {\n",
    "    0: 'WALKING',\n",
    "    1: 'WALKING_UPSTAIRS',\n",
    "    2: 'WALKING_DOWNSTAIRS',\n",
    "    3: 'SITTING',\n",
    "    4: 'STANDING',\n",
    "    5: 'LAYING',\n",
    "}\n",
    "\n",
    "# Utility function to print the confusion matrix\n",
    "def confusion_matrix(Y_true, Y_pred):\n",
    "    Y_true = pd.Series([ACTIVITIES[y] for y in np.argmax(Y_true, axis=1)])\n",
    "    Y_pred = pd.Series([ACTIVITIES[y] for y in np.argmax(Y_pred, axis=1)])\n",
    "\n",
    "    return pd.crosstab(Y_true, Y_pred, rownames=['True'], colnames=['Pred'])"
   ]
  },
  {
   "cell_type": "code",
   "execution_count": 42,
   "metadata": {},
   "outputs": [],
   "source": [
    "# Data directory\n",
    "DATADIR = 'UCI_HAR_Dataset'"
   ]
  },
  {
   "cell_type": "code",
   "execution_count": 43,
   "metadata": {},
   "outputs": [],
   "source": [
    "# Raw data signals\n",
    "# Signals are from Accelerometer and Gyroscope\n",
    "# The signals are in x,y,z directions\n",
    "# Sensor signals are filtered to have only body acceleration\n",
    "# excluding the acceleration due to gravity\n",
    "# Triaxial acceleration from the accelerometer is total acceleration\n",
    "SIGNALS = [\n",
    "    \"body_acc_x\",\n",
    "    \"body_acc_y\",\n",
    "    \"body_acc_z\",\n",
    "    \"body_gyro_x\",\n",
    "    \"body_gyro_y\",\n",
    "    \"body_gyro_z\",\n",
    "    \"total_acc_x\",\n",
    "    \"total_acc_y\",\n",
    "    \"total_acc_z\"\n",
    "]"
   ]
  },
  {
   "cell_type": "code",
   "execution_count": 44,
   "metadata": {},
   "outputs": [],
   "source": [
    "# Utility function to read the data from csv file\n",
    "def _read_csv(filename):\n",
    "    return pd.read_csv(filename, delim_whitespace=True, header=None)\n",
    "\n",
    "# Utility function to load the load\n",
    "def load_signals(subset):\n",
    "    signals_data = []\n",
    "\n",
    "    for signal in SIGNALS:\n",
    "        filename = f'UCI_HAR_Dataset/{subset}/Inertial Signals/{signal}_{subset}.txt'\n",
    "        signals_data.append(\n",
    "            _read_csv(filename).as_matrix()\n",
    "        ) \n",
    "\n",
    "    # Transpose is used to change the dimensionality of the output,\n",
    "    # aggregating the signals by combination of sample/timestep.\n",
    "    # Resultant shape is (7352 train/2947 test samples, 128 timesteps, 9 signals)\n",
    "    return np.transpose(signals_data, (1, 2, 0))"
   ]
  },
  {
   "cell_type": "code",
   "execution_count": 45,
   "metadata": {},
   "outputs": [],
   "source": [
    "\n",
    "def load_y(subset):\n",
    "    \"\"\"\n",
    "    The objective that we are trying to predict is a integer, from 1 to 6,\n",
    "    that represents a human activity. We return a binary representation of \n",
    "    every sample objective as a 6 bits vector using One Hot Encoding\n",
    "    (https://pandas.pydata.org/pandas-docs/stable/generated/pandas.get_dummies.html)\n",
    "    \"\"\"\n",
    "    filename = f'UCI_HAR_Dataset/{subset}/y_{subset}.txt'\n",
    "    y = _read_csv(filename)[0]\n",
    "\n",
    "    return pd.get_dummies(y).as_matrix()"
   ]
  },
  {
   "cell_type": "code",
   "execution_count": 46,
   "metadata": {},
   "outputs": [],
   "source": [
    "def load_data():\n",
    "    \"\"\"\n",
    "    Obtain the dataset from multiple files.\n",
    "    Returns: X_train, X_test, y_train, y_test\n",
    "    \"\"\"\n",
    "    X_train, X_test = load_signals('train'), load_signals('test')\n",
    "    y_train, y_test = load_y('train'), load_y('test')\n",
    "\n",
    "    return X_train, X_test, y_train, y_test"
   ]
  },
  {
   "cell_type": "code",
   "execution_count": 47,
   "metadata": {},
   "outputs": [],
   "source": [
    "# Importing tensorflow\n",
    "np.random.seed(42)\n",
    "import tensorflow as tf\n",
    "tf.set_random_seed(42)"
   ]
  },
  {
   "cell_type": "code",
   "execution_count": 48,
   "metadata": {},
   "outputs": [],
   "source": [
    "# Configuring a session\n",
    "session_conf = tf.ConfigProto(\n",
    "    intra_op_parallelism_threads=1,\n",
    "    inter_op_parallelism_threads=1\n",
    ")"
   ]
  },
  {
   "cell_type": "code",
   "execution_count": 49,
   "metadata": {},
   "outputs": [],
   "source": [
    "# Import Keras\n",
    "from keras import backend as K\n",
    "sess = tf.Session(graph=tf.get_default_graph(), config=session_conf)\n",
    "K.set_session(sess)"
   ]
  },
  {
   "cell_type": "markdown",
   "metadata": {},
   "source": [
    "# Model 1."
   ]
  },
  {
   "cell_type": "markdown",
   "metadata": {},
   "source": [
    "<p>1.Here I am using 40 Lstm cells instead of 32 Lstm cells to see if Performance improves </p>\n",
    "<p>2. I am keeping Dropout as 0.5 </p>"
   ]
  },
  {
   "cell_type": "code",
   "execution_count": 50,
   "metadata": {},
   "outputs": [],
   "source": [
    "# Importing libraries\n",
    "from keras.models import Sequential\n",
    "from keras.layers import LSTM\n",
    "from keras.layers.core import Dense, Dropout"
   ]
  },
  {
   "cell_type": "code",
   "execution_count": 55,
   "metadata": {},
   "outputs": [],
   "source": [
    "# Initializing parameters\n",
    "epochs = 30\n",
    "batch_size = 16\n",
    "n_hidden = 40 #tune n_hidden"
   ]
  },
  {
   "cell_type": "code",
   "execution_count": 52,
   "metadata": {},
   "outputs": [],
   "source": [
    "# Utility function to count the number of classes\n",
    "def _count_classes(y):\n",
    "    return len(set([tuple(category) for category in y]))"
   ]
  },
  {
   "cell_type": "code",
   "execution_count": 53,
   "metadata": {},
   "outputs": [
    {
     "name": "stderr",
     "output_type": "stream",
     "text": [
      "E:\\anaconda\\envs\\tf18\\lib\\site-packages\\ipykernel_launcher.py:12: FutureWarning: Method .as_matrix will be removed in a future version. Use .values instead.\n",
      "  if sys.path[0] == '':\n"
     ]
    }
   ],
   "source": [
    "# Loading the train and test data\n",
    "X_train, X_test, Y_train, Y_test = load_data()"
   ]
  },
  {
   "cell_type": "code",
   "execution_count": 54,
   "metadata": {},
   "outputs": [
    {
     "name": "stdout",
     "output_type": "stream",
     "text": [
      "128\n",
      "9\n",
      "7352\n"
     ]
    }
   ],
   "source": [
    "timesteps = len(X_train[0])\n",
    "input_dim = len(X_train[0][0])\n",
    "n_classes = _count_classes(Y_train)\n",
    "\n",
    "print(timesteps)\n",
    "print(input_dim)\n",
    "print(len(X_train))"
   ]
  },
  {
   "cell_type": "code",
   "execution_count": 56,
   "metadata": {},
   "outputs": [
    {
     "name": "stdout",
     "output_type": "stream",
     "text": [
      "_________________________________________________________________\n",
      "Layer (type)                 Output Shape              Param #   \n",
      "=================================================================\n",
      "lstm_5 (LSTM)                (None, 40)                8000      \n",
      "_________________________________________________________________\n",
      "dropout_5 (Dropout)          (None, 40)                0         \n",
      "_________________________________________________________________\n",
      "dense_5 (Dense)              (None, 6)                 246       \n",
      "=================================================================\n",
      "Total params: 8,246\n",
      "Trainable params: 8,246\n",
      "Non-trainable params: 0\n",
      "_________________________________________________________________\n"
     ]
    }
   ],
   "source": [
    "# Initiliazing the sequential model\n",
    "model = Sequential()\n",
    "# Configuring the parameters\n",
    "model.add(LSTM(n_hidden, input_shape=(timesteps, input_dim)))\n",
    "# Adding a dropout layer\n",
    "model.add(Dropout(0.5))\n",
    "# Adding a dense output layer with sigmoid activation\n",
    "model.add(Dense(n_classes, activation='sigmoid'))\n",
    "model.summary()"
   ]
  },
  {
   "cell_type": "code",
   "execution_count": 57,
   "metadata": {},
   "outputs": [],
   "source": [
    "# Compiling the model\n",
    "model.compile(loss='categorical_crossentropy',\n",
    "              optimizer='rmsprop',\n",
    "              metrics=['accuracy'])"
   ]
  },
  {
   "cell_type": "code",
   "execution_count": 58,
   "metadata": {},
   "outputs": [
    {
     "name": "stdout",
     "output_type": "stream",
     "text": [
      "Train on 7352 samples, validate on 2947 samples\n",
      "Epoch 1/30\n",
      "7352/7352 [==============================] - 378s 51ms/step - loss: 1.3058 - acc: 0.4382 - val_loss: 1.1812 - val_acc: 0.4941\n",
      "Epoch 2/30\n",
      "7352/7352 [==============================] - 334s 45ms/step - loss: 1.0862 - acc: 0.5246 - val_loss: 1.1028 - val_acc: 0.5219\n",
      "Epoch 3/30\n",
      "7352/7352 [==============================] - 291s 40ms/step - loss: 1.0036 - acc: 0.5536 - val_loss: 1.0120 - val_acc: 0.5779\n",
      "Epoch 4/30\n",
      "7352/7352 [==============================] - 293s 40ms/step - loss: 0.9305 - acc: 0.5774 - val_loss: 0.9723 - val_acc: 0.5568\n",
      "Epoch 5/30\n",
      "7352/7352 [==============================] - 285s 39ms/step - loss: 0.8494 - acc: 0.5977 - val_loss: 0.8653 - val_acc: 0.5881\n",
      "Epoch 6/30\n",
      "7352/7352 [==============================] - 303s 41ms/step - loss: 0.7722 - acc: 0.6473 - val_loss: 0.7642 - val_acc: 0.6125\n",
      "Epoch 7/30\n",
      "7352/7352 [==============================] - 346s 47ms/step - loss: 0.7612 - acc: 0.6772 - val_loss: 0.7530 - val_acc: 0.6953\n",
      "Epoch 8/30\n",
      "7352/7352 [==============================] - 312s 42ms/step - loss: 0.6342 - acc: 0.7341 - val_loss: 0.6712 - val_acc: 0.7251\n",
      "Epoch 9/30\n",
      "7352/7352 [==============================] - 315s 43ms/step - loss: 0.5751 - acc: 0.7656 - val_loss: 0.6267 - val_acc: 0.7642\n",
      "Epoch 10/30\n",
      "7352/7352 [==============================] - 312s 42ms/step - loss: 0.4875 - acc: 0.8010 - val_loss: 0.5577 - val_acc: 0.7842\n",
      "Epoch 11/30\n",
      "7352/7352 [==============================] - 350s 48ms/step - loss: 0.4195 - acc: 0.8443 - val_loss: 0.5725 - val_acc: 0.8412\n",
      "Epoch 12/30\n",
      "7352/7352 [==============================] - 313s 43ms/step - loss: 0.3203 - acc: 0.9053 - val_loss: 0.5827 - val_acc: 0.8497\n",
      "Epoch 13/30\n",
      "7352/7352 [==============================] - 379s 51ms/step - loss: 0.2907 - acc: 0.9108 - val_loss: 0.4554 - val_acc: 0.8846\n",
      "Epoch 14/30\n",
      "7352/7352 [==============================] - 302s 41ms/step - loss: 0.2347 - acc: 0.9261 - val_loss: 0.5236 - val_acc: 0.8711\n",
      "Epoch 15/30\n",
      "7352/7352 [==============================] - 281s 38ms/step - loss: 0.2418 - acc: 0.9225 - val_loss: 0.4994 - val_acc: 0.8856\n",
      "Epoch 16/30\n",
      "7352/7352 [==============================] - 270s 37ms/step - loss: 0.2119 - acc: 0.9309 - val_loss: 0.5188 - val_acc: 0.8829\n",
      "Epoch 17/30\n",
      "7352/7352 [==============================] - 292s 40ms/step - loss: 0.2025 - acc: 0.9368 - val_loss: 0.4910 - val_acc: 0.8656\n",
      "Epoch 18/30\n",
      "7352/7352 [==============================] - 272s 37ms/step - loss: 0.1931 - acc: 0.9381 - val_loss: 0.4413 - val_acc: 0.8901\n",
      "Epoch 19/30\n",
      "7352/7352 [==============================] - 269s 37ms/step - loss: 0.2659 - acc: 0.9259 - val_loss: 0.9140 - val_acc: 0.7574\n",
      "Epoch 20/30\n",
      "7352/7352 [==============================] - 272s 37ms/step - loss: 0.2816 - acc: 0.9204 - val_loss: 0.4422 - val_acc: 0.8887\n",
      "Epoch 21/30\n",
      "7352/7352 [==============================] - 277s 38ms/step - loss: 0.1896 - acc: 0.9369 - val_loss: 0.5197 - val_acc: 0.8914\n",
      "Epoch 22/30\n",
      "7352/7352 [==============================] - 275s 37ms/step - loss: 0.1988 - acc: 0.9397 - val_loss: 0.5252 - val_acc: 0.8839\n",
      "Epoch 23/30\n",
      "7352/7352 [==============================] - 271s 37ms/step - loss: 0.2154 - acc: 0.9342 - val_loss: 0.5015 - val_acc: 0.8921\n",
      "Epoch 24/30\n",
      "7352/7352 [==============================] - 268s 36ms/step - loss: 0.1882 - acc: 0.9412 - val_loss: 0.2678 - val_acc: 0.9013\n",
      "Epoch 25/30\n",
      "7352/7352 [==============================] - 272s 37ms/step - loss: 0.1622 - acc: 0.9421 - val_loss: 0.2752 - val_acc: 0.9087\n",
      "Epoch 26/30\n",
      "7352/7352 [==============================] - 273s 37ms/step - loss: 0.1561 - acc: 0.9418 - val_loss: 0.3349 - val_acc: 0.9067\n",
      "Epoch 27/30\n",
      "7352/7352 [==============================] - 274s 37ms/step - loss: 0.1664 - acc: 0.9418 - val_loss: 0.4752 - val_acc: 0.8955\n",
      "Epoch 28/30\n",
      "7352/7352 [==============================] - 268s 36ms/step - loss: 0.1523 - acc: 0.9464 - val_loss: 0.6364 - val_acc: 0.8721\n",
      "Epoch 29/30\n",
      "7352/7352 [==============================] - 280s 38ms/step - loss: 0.1514 - acc: 0.9452 - val_loss: 0.2944 - val_acc: 0.9186\n",
      "Epoch 30/30\n",
      "7352/7352 [==============================] - 272s 37ms/step - loss: 0.1590 - acc: 0.9457 - val_loss: 0.2002 - val_acc: 0.9206\n"
     ]
    },
    {
     "data": {
      "text/plain": [
       "<keras.callbacks.History at 0x84b5482e80>"
      ]
     },
     "execution_count": 58,
     "metadata": {},
     "output_type": "execute_result"
    }
   ],
   "source": [
    "# Training the model\n",
    "model.fit(X_train,\n",
    "          Y_train,\n",
    "          batch_size=batch_size,\n",
    "          validation_data=(X_test, Y_test),\n",
    "          epochs=epochs)"
   ]
  },
  {
   "cell_type": "code",
   "execution_count": 59,
   "metadata": {},
   "outputs": [
    {
     "name": "stdout",
     "output_type": "stream",
     "text": [
      "Pred                LAYING  SITTING  STANDING  WALKING  WALKING_DOWNSTAIRS  \\\n",
      "True                                                                         \n",
      "LAYING                 537        0         0        0                   0   \n",
      "SITTING                  0      425        58        8                   0   \n",
      "STANDING                 0      129       399        4                   0   \n",
      "WALKING                  0        0         0      480                   6   \n",
      "WALKING_DOWNSTAIRS       0        0         0        0                 417   \n",
      "WALKING_UPSTAIRS         0        0         0       12                   4   \n",
      "\n",
      "Pred                WALKING_UPSTAIRS  \n",
      "True                                  \n",
      "LAYING                             0  \n",
      "SITTING                            0  \n",
      "STANDING                           0  \n",
      "WALKING                           10  \n",
      "WALKING_DOWNSTAIRS                 3  \n",
      "WALKING_UPSTAIRS                 455  \n"
     ]
    }
   ],
   "source": [
    "# Confusion Matrix\n",
    "print(confusion_matrix(Y_test, model.predict(X_test)))"
   ]
  },
  {
   "cell_type": "code",
   "execution_count": 60,
   "metadata": {},
   "outputs": [
    {
     "name": "stdout",
     "output_type": "stream",
     "text": [
      "2947/2947 [==============================] - 17s 6ms/step\n"
     ]
    }
   ],
   "source": [
    "score = model.evaluate(X_test, Y_test)"
   ]
  },
  {
   "cell_type": "code",
   "execution_count": 61,
   "metadata": {},
   "outputs": [
    {
     "data": {
      "text/plain": [
       "[0.20021087040396643, 0.9205972175093315]"
      ]
     },
     "execution_count": 61,
     "metadata": {},
     "output_type": "execute_result"
    }
   ],
   "source": [
    "score"
   ]
  },
  {
   "cell_type": "markdown",
   "metadata": {},
   "source": [
    "<p> 1. By increasing Number of Lstm units we have improved , earlier by using 32 Lstm units we got loss of 0.30 and accuray of 90% but now we got loss as 0.20 and accuracy as 92%</p>"
   ]
  },
  {
   "cell_type": "markdown",
   "metadata": {},
   "source": [
    "# Model 2."
   ]
  },
  {
   "cell_type": "markdown",
   "metadata": {},
   "source": [
    "Let us use same 40 Lstm units architecture but now let us regularize our model more , that is instead of keepin dropout rate as 0.6 lets keep dropout rate as 0.8"
   ]
  },
  {
   "cell_type": "code",
   "execution_count": 62,
   "metadata": {},
   "outputs": [
    {
     "name": "stdout",
     "output_type": "stream",
     "text": [
      "_________________________________________________________________\n",
      "Layer (type)                 Output Shape              Param #   \n",
      "=================================================================\n",
      "lstm_6 (LSTM)                (None, 40)                8000      \n",
      "_________________________________________________________________\n",
      "dropout_6 (Dropout)          (None, 40)                0         \n",
      "_________________________________________________________________\n",
      "dense_6 (Dense)              (None, 6)                 246       \n",
      "=================================================================\n",
      "Total params: 8,246\n",
      "Trainable params: 8,246\n",
      "Non-trainable params: 0\n",
      "_________________________________________________________________\n"
     ]
    }
   ],
   "source": [
    "# Initiliazing the sequential model\n",
    "model = Sequential()\n",
    "# Configuring the parameters\n",
    "model.add(LSTM(n_hidden, input_shape=(timesteps, input_dim)))\n",
    "# Adding a dropout layer\n",
    "model.add(Dropout(0.8))\n",
    "# Adding a dense output layer with sigmoid activation\n",
    "model.add(Dense(n_classes, activation='sigmoid'))\n",
    "model.summary()"
   ]
  },
  {
   "cell_type": "code",
   "execution_count": 63,
   "metadata": {},
   "outputs": [],
   "source": [
    "# Compiling the model\n",
    "model.compile(loss='categorical_crossentropy',\n",
    "              optimizer='rmsprop',\n",
    "              metrics=['accuracy'])"
   ]
  },
  {
   "cell_type": "code",
   "execution_count": 64,
   "metadata": {},
   "outputs": [
    {
     "name": "stdout",
     "output_type": "stream",
     "text": [
      "Train on 7352 samples, validate on 2947 samples\n",
      "Epoch 1/30\n",
      "7352/7352 [==============================] - 296s 40ms/step - loss: 1.4205 - acc: 0.3940 - val_loss: 1.2551 - val_acc: 0.4652\n",
      "Epoch 2/30\n",
      "7352/7352 [==============================] - 282s 38ms/step - loss: 1.1377 - acc: 0.5239 - val_loss: 0.9639 - val_acc: 0.6125\n",
      "Epoch 3/30\n",
      "7352/7352 [==============================] - 281s 38ms/step - loss: 0.9618 - acc: 0.6007 - val_loss: 0.8383 - val_acc: 0.6549\n",
      "Epoch 4/30\n",
      "7352/7352 [==============================] - 277s 38ms/step - loss: 0.8524 - acc: 0.6417 - val_loss: 0.8336 - val_acc: 0.6583\n",
      "Epoch 5/30\n",
      "7352/7352 [==============================] - 283s 38ms/step - loss: 0.8055 - acc: 0.6536 - val_loss: 0.7626 - val_acc: 0.6736\n",
      "Epoch 6/30\n",
      "7352/7352 [==============================] - 279s 38ms/step - loss: 0.7644 - acc: 0.6714 - val_loss: 0.7726 - val_acc: 0.6512\n",
      "Epoch 7/30\n",
      "7352/7352 [==============================] - 281s 38ms/step - loss: 0.7439 - acc: 0.6859 - val_loss: 0.7534 - val_acc: 0.6356\n",
      "Epoch 8/30\n",
      "7352/7352 [==============================] - 283s 38ms/step - loss: 0.7234 - acc: 0.6983 - val_loss: 0.6173 - val_acc: 0.7238\n",
      "Epoch 9/30\n",
      "7352/7352 [==============================] - 278s 38ms/step - loss: 0.7108 - acc: 0.7108 - val_loss: 0.5728 - val_acc: 0.7414\n",
      "Epoch 10/30\n",
      "7352/7352 [==============================] - 281s 38ms/step - loss: 0.6566 - acc: 0.7335 - val_loss: 0.5047 - val_acc: 0.7655\n",
      "Epoch 11/30\n",
      "7352/7352 [==============================] - 280s 38ms/step - loss: 0.6341 - acc: 0.7403 - val_loss: 0.5113 - val_acc: 0.7564\n",
      "Epoch 12/30\n",
      "7352/7352 [==============================] - 283s 39ms/step - loss: 0.6626 - acc: 0.7495 - val_loss: 0.4834 - val_acc: 0.7645\n",
      "Epoch 13/30\n",
      "7352/7352 [==============================] - 280s 38ms/step - loss: 0.6024 - acc: 0.7584 - val_loss: 0.4754 - val_acc: 0.7631\n",
      "Epoch 14/30\n",
      "7352/7352 [==============================] - 282s 38ms/step - loss: 0.5914 - acc: 0.7711 - val_loss: 0.7019 - val_acc: 0.7313\n",
      "Epoch 15/30\n",
      "7352/7352 [==============================] - 280s 38ms/step - loss: 0.5511 - acc: 0.7788 - val_loss: 0.4827 - val_acc: 0.7679\n",
      "Epoch 16/30\n",
      "7352/7352 [==============================] - 282s 38ms/step - loss: 0.5422 - acc: 0.7794 - val_loss: 0.6428 - val_acc: 0.7333\n",
      "Epoch 17/30\n",
      "7352/7352 [==============================] - 279s 38ms/step - loss: 0.5226 - acc: 0.7908 - val_loss: 0.5136 - val_acc: 0.7635\n",
      "Epoch 18/30\n",
      "7352/7352 [==============================] - 303s 41ms/step - loss: 0.5469 - acc: 0.7863 - val_loss: 0.5340 - val_acc: 0.8059\n",
      "Epoch 19/30\n",
      "7352/7352 [==============================] - 280s 38ms/step - loss: 0.4853 - acc: 0.8026 - val_loss: 0.5251 - val_acc: 0.7906\n",
      "Epoch 20/30\n",
      "7352/7352 [==============================] - 280s 38ms/step - loss: 0.5123 - acc: 0.8071 - val_loss: 0.4971 - val_acc: 0.8432\n",
      "Epoch 21/30\n",
      "7352/7352 [==============================] - 278s 38ms/step - loss: 0.4705 - acc: 0.8349 - val_loss: 0.4209 - val_acc: 0.8622\n",
      "Epoch 22/30\n",
      "7352/7352 [==============================] - 279s 38ms/step - loss: 0.4417 - acc: 0.8555 - val_loss: 0.4188 - val_acc: 0.8599\n",
      "Epoch 23/30\n",
      "7352/7352 [==============================] - 277s 38ms/step - loss: 0.4320 - acc: 0.8705 - val_loss: 0.4427 - val_acc: 0.8663\n",
      "Epoch 24/30\n",
      "7352/7352 [==============================] - 277s 38ms/step - loss: 0.3887 - acc: 0.8871 - val_loss: 0.4524 - val_acc: 0.8809\n",
      "Epoch 25/30\n",
      "7352/7352 [==============================] - 282s 38ms/step - loss: 0.3705 - acc: 0.8936 - val_loss: 0.4638 - val_acc: 0.8870\n",
      "Epoch 26/30\n",
      "7352/7352 [==============================] - 277s 38ms/step - loss: 0.3627 - acc: 0.9082 - val_loss: 0.4442 - val_acc: 0.8738\n",
      "Epoch 27/30\n",
      "7352/7352 [==============================] - 281s 38ms/step - loss: 0.3704 - acc: 0.8999 - val_loss: 0.4197 - val_acc: 0.8887\n",
      "Epoch 28/30\n",
      "7352/7352 [==============================] - 276s 38ms/step - loss: 0.3861 - acc: 0.8977 - val_loss: 0.5192 - val_acc: 0.8890\n",
      "Epoch 29/30\n",
      "7352/7352 [==============================] - 278s 38ms/step - loss: 0.3763 - acc: 0.8972 - val_loss: 0.4671 - val_acc: 0.8765\n",
      "Epoch 30/30\n",
      "7352/7352 [==============================] - 296s 40ms/step - loss: 0.3705 - acc: 0.8935 - val_loss: 0.3210 - val_acc: 0.8965\n"
     ]
    },
    {
     "data": {
      "text/plain": [
       "<keras.callbacks.History at 0x84b7ebfac8>"
      ]
     },
     "execution_count": 64,
     "metadata": {},
     "output_type": "execute_result"
    }
   ],
   "source": [
    "# Training the model\n",
    "model.fit(X_train,\n",
    "          Y_train,\n",
    "          batch_size=batch_size,\n",
    "          validation_data=(X_test, Y_test),\n",
    "          epochs=epochs)"
   ]
  },
  {
   "cell_type": "code",
   "execution_count": 65,
   "metadata": {},
   "outputs": [
    {
     "name": "stdout",
     "output_type": "stream",
     "text": [
      "Pred                LAYING  SITTING  STANDING  WALKING  WALKING_DOWNSTAIRS  \\\n",
      "True                                                                         \n",
      "LAYING                 517        0        20        0                   0   \n",
      "SITTING                  0      420        71        0                   0   \n",
      "STANDING                 0      125       406        1                   0   \n",
      "WALKING                  0        0         0      443                  35   \n",
      "WALKING_DOWNSTAIRS       0        0         0        0                 414   \n",
      "WALKING_UPSTAIRS         0        0         0        4                  25   \n",
      "\n",
      "Pred                WALKING_UPSTAIRS  \n",
      "True                                  \n",
      "LAYING                             0  \n",
      "SITTING                            0  \n",
      "STANDING                           0  \n",
      "WALKING                           18  \n",
      "WALKING_DOWNSTAIRS                 6  \n",
      "WALKING_UPSTAIRS                 442  \n"
     ]
    }
   ],
   "source": [
    "# Confusion Matrix\n",
    "print(confusion_matrix(Y_test, model.predict(X_test)))"
   ]
  },
  {
   "cell_type": "code",
   "execution_count": 66,
   "metadata": {},
   "outputs": [
    {
     "name": "stdout",
     "output_type": "stream",
     "text": [
      "2947/2947 [==============================] - 19s 7ms/step\n"
     ]
    }
   ],
   "source": [
    "score = model.evaluate(X_test, Y_test)"
   ]
  },
  {
   "cell_type": "code",
   "execution_count": 67,
   "metadata": {},
   "outputs": [
    {
     "data": {
      "text/plain": [
       "[0.32103655033073797, 0.8965049202578894]"
      ]
     },
     "execution_count": 67,
     "metadata": {},
     "output_type": "execute_result"
    }
   ],
   "source": [
    "score"
   ]
  },
  {
   "cell_type": "markdown",
   "metadata": {},
   "source": [
    "Here we got 90% accuracy and loss as 0.32 percent this could be because we have regulrized our model a lot . Most probably this is case of underfitting as our dropout rate is too high ."
   ]
  },
  {
   "cell_type": "markdown",
   "metadata": {},
   "source": [
    "# 3 . Model"
   ]
  },
  {
   "cell_type": "markdown",
   "metadata": {},
   "source": [
    "<p> 1. Let us try 2 layers Lstm model </p>\n",
    "<p> 2. To avoid overfitting we should regularized our model to good number by regulating dropout rates but adding too large dropouts also creates bad generalization model typically underfit model</p>"
   ]
  },
  {
   "cell_type": "code",
   "execution_count": 73,
   "metadata": {},
   "outputs": [
    {
     "name": "stdout",
     "output_type": "stream",
     "text": [
      "_________________________________________________________________\n",
      "Layer (type)                 Output Shape              Param #   \n",
      "=================================================================\n",
      "lstm_11 (LSTM)               (None, 128, 40)           8000      \n",
      "_________________________________________________________________\n",
      "dropout_9 (Dropout)          (None, 128, 40)           0         \n",
      "_________________________________________________________________\n",
      "flatten_1 (Flatten)          (None, 5120)              0         \n",
      "_________________________________________________________________\n",
      "dense_8 (Dense)              (None, 6)                 30726     \n",
      "=================================================================\n",
      "Total params: 38,726\n",
      "Trainable params: 38,726\n",
      "Non-trainable params: 0\n",
      "_________________________________________________________________\n"
     ]
    }
   ],
   "source": [
    "# Initiliazing the sequential model\n",
    "from keras.layers import Flatten\n",
    "model = Sequential()\n",
    "# Configuring the parameters\n",
    "model.add(LSTM(n_hidden, return_sequences=True, input_shape=(timesteps, input_dim)))\n",
    "# Adding a dropout layer\n",
    "\n",
    "model.add(Dropout(0.6))\n",
    "# Adding a dense output layer with sigmoid activation\n",
    "model.add(Flatten())\n",
    "model.add(Dense(n_classes, activation='sigmoid'))\n",
    "model.summary()"
   ]
  },
  {
   "cell_type": "code",
   "execution_count": 74,
   "metadata": {},
   "outputs": [],
   "source": [
    "# Compiling the model\n",
    "model.compile(loss='categorical_crossentropy',\n",
    "              optimizer='rmsprop',\n",
    "              metrics=['accuracy'])"
   ]
  },
  {
   "cell_type": "code",
   "execution_count": 75,
   "metadata": {},
   "outputs": [
    {
     "name": "stdout",
     "output_type": "stream",
     "text": [
      "Train on 7352 samples, validate on 2947 samples\n",
      "Epoch 1/30\n",
      "7352/7352 [==============================] - 271s 37ms/step - loss: 0.8029 - acc: 0.5252 - val_loss: 0.7724 - val_acc: 0.6196\n",
      "Epoch 2/30\n",
      "7352/7352 [==============================] - 281s 38ms/step - loss: 0.3059 - acc: 0.8742 - val_loss: 0.5498 - val_acc: 0.8409\n",
      "Epoch 3/30\n",
      "7352/7352 [==============================] - 287s 39ms/step - loss: 0.1848 - acc: 0.9257 - val_loss: 0.3685 - val_acc: 0.8914\n",
      "Epoch 4/30\n",
      "7352/7352 [==============================] - 271s 37ms/step - loss: 0.1543 - acc: 0.9351 - val_loss: 0.3511 - val_acc: 0.8904\n",
      "Epoch 5/30\n",
      "7352/7352 [==============================] - 274s 37ms/step - loss: 0.1423 - acc: 0.9422 - val_loss: 0.2856 - val_acc: 0.9046\n",
      "Epoch 6/30\n",
      "7352/7352 [==============================] - 272s 37ms/step - loss: 0.1362 - acc: 0.9442 - val_loss: 0.2575 - val_acc: 0.9097\n",
      "Epoch 7/30\n",
      "7352/7352 [==============================] - 270s 37ms/step - loss: 0.1324 - acc: 0.9425 - val_loss: 0.3315 - val_acc: 0.8894\n",
      "Epoch 8/30\n",
      "7352/7352 [==============================] - 271s 37ms/step - loss: 0.1315 - acc: 0.9427 - val_loss: 0.3424 - val_acc: 0.8911\n",
      "Epoch 9/30\n",
      "7352/7352 [==============================] - 272s 37ms/step - loss: 0.1253 - acc: 0.9415 - val_loss: 0.4221 - val_acc: 0.8985\n",
      "Epoch 10/30\n",
      "7352/7352 [==============================] - 271s 37ms/step - loss: 0.1215 - acc: 0.9423 - val_loss: 0.3714 - val_acc: 0.9074\n",
      "Epoch 11/30\n",
      "7352/7352 [==============================] - 271s 37ms/step - loss: 0.1228 - acc: 0.9385 - val_loss: 0.4224 - val_acc: 0.8992\n",
      "Epoch 12/30\n",
      "7352/7352 [==============================] - 274s 37ms/step - loss: 0.1202 - acc: 0.9399 - val_loss: 0.3988 - val_acc: 0.8979\n",
      "Epoch 13/30\n",
      "7352/7352 [==============================] - 271s 37ms/step - loss: 0.1179 - acc: 0.9427 - val_loss: 0.3796 - val_acc: 0.8965\n",
      "Epoch 14/30\n",
      "7352/7352 [==============================] - 273s 37ms/step - loss: 0.1185 - acc: 0.9434 - val_loss: 0.4977 - val_acc: 0.9016\n",
      "Epoch 15/30\n",
      "7352/7352 [==============================] - 273s 37ms/step - loss: 0.1148 - acc: 0.9450 - val_loss: 0.5629 - val_acc: 0.8887\n",
      "Epoch 16/30\n",
      "7352/7352 [==============================] - 276s 38ms/step - loss: 0.1181 - acc: 0.9434 - val_loss: 0.3324 - val_acc: 0.9087\n",
      "Epoch 17/30\n",
      "7352/7352 [==============================] - 273s 37ms/step - loss: 0.1094 - acc: 0.9445 - val_loss: 0.4819 - val_acc: 0.8928\n",
      "Epoch 18/30\n",
      "7352/7352 [==============================] - 273s 37ms/step - loss: 0.1088 - acc: 0.9457 - val_loss: 0.4096 - val_acc: 0.9152\n",
      "Epoch 19/30\n",
      "7352/7352 [==============================] - 288s 39ms/step - loss: 0.1086 - acc: 0.9478 - val_loss: 0.4412 - val_acc: 0.9026\n",
      "Epoch 20/30\n",
      "7352/7352 [==============================] - 299s 41ms/step - loss: 0.1047 - acc: 0.9478 - val_loss: 0.4143 - val_acc: 0.9080\n",
      "Epoch 21/30\n",
      "7352/7352 [==============================] - 322s 44ms/step - loss: 0.1080 - acc: 0.9467 - val_loss: 0.4816 - val_acc: 0.9046\n",
      "Epoch 22/30\n",
      "7352/7352 [==============================] - 288s 39ms/step - loss: 0.1041 - acc: 0.9487 - val_loss: 0.4977 - val_acc: 0.9043\n",
      "Epoch 23/30\n",
      "7352/7352 [==============================] - 273s 37ms/step - loss: 0.1007 - acc: 0.9487 - val_loss: 0.4971 - val_acc: 0.9155\n",
      "Epoch 24/30\n",
      "7352/7352 [==============================] - 271s 37ms/step - loss: 0.1002 - acc: 0.9504 - val_loss: 0.4834 - val_acc: 0.9046\n",
      "Epoch 25/30\n",
      "7352/7352 [==============================] - 275s 37ms/step - loss: 0.0980 - acc: 0.9521 - val_loss: 0.6046 - val_acc: 0.8958\n",
      "Epoch 26/30\n",
      "7352/7352 [==============================] - 272s 37ms/step - loss: 0.1043 - acc: 0.9489 - val_loss: 0.5140 - val_acc: 0.9091\n",
      "Epoch 27/30\n",
      "7352/7352 [==============================] - 274s 37ms/step - loss: 0.0983 - acc: 0.9524 - val_loss: 0.4395 - val_acc: 0.9023\n",
      "Epoch 28/30\n",
      "7352/7352 [==============================] - 271s 37ms/step - loss: 0.0906 - acc: 0.9509 - val_loss: 0.6270 - val_acc: 0.9030\n",
      "Epoch 29/30\n",
      "7352/7352 [==============================] - 274s 37ms/step - loss: 0.0913 - acc: 0.9555 - val_loss: 0.6353 - val_acc: 0.8931\n",
      "Epoch 30/30\n",
      "7352/7352 [==============================] - 272s 37ms/step - loss: 0.0940 - acc: 0.9561 - val_loss: 0.4973 - val_acc: 0.8992\n"
     ]
    },
    {
     "data": {
      "text/plain": [
       "<keras.callbacks.History at 0x849cf18780>"
      ]
     },
     "execution_count": 75,
     "metadata": {},
     "output_type": "execute_result"
    }
   ],
   "source": [
    "# Training the model\n",
    "model.fit(X_train,\n",
    "          Y_train,\n",
    "          batch_size=batch_size,\n",
    "          validation_data=(X_test, Y_test),\n",
    "          epochs=epochs)"
   ]
  },
  {
   "cell_type": "code",
   "execution_count": 76,
   "metadata": {},
   "outputs": [
    {
     "name": "stdout",
     "output_type": "stream",
     "text": [
      "Pred                LAYING  SITTING  STANDING  WALKING  WALKING_DOWNSTAIRS  \\\n",
      "True                                                                         \n",
      "LAYING                 537        0         0        0                   0   \n",
      "SITTING                  5      359       126        0                   0   \n",
      "STANDING                 0       61       470        1                   0   \n",
      "WALKING                  0        0         0      462                  30   \n",
      "WALKING_DOWNSTAIRS       0        0         0        0                 373   \n",
      "WALKING_UPSTAIRS         0        7         2        8                   5   \n",
      "\n",
      "Pred                WALKING_UPSTAIRS  \n",
      "True                                  \n",
      "LAYING                             0  \n",
      "SITTING                            1  \n",
      "STANDING                           0  \n",
      "WALKING                            4  \n",
      "WALKING_DOWNSTAIRS                47  \n",
      "WALKING_UPSTAIRS                 449  \n"
     ]
    }
   ],
   "source": [
    "# Confusion Matrix\n",
    "print(confusion_matrix(Y_test, model.predict(X_test)))"
   ]
  },
  {
   "cell_type": "code",
   "execution_count": 77,
   "metadata": {},
   "outputs": [
    {
     "name": "stdout",
     "output_type": "stream",
     "text": [
      "2947/2947 [==============================] - 19s 7ms/step\n"
     ]
    }
   ],
   "source": [
    "score = model.evaluate(X_test, Y_test)"
   ]
  },
  {
   "cell_type": "code",
   "execution_count": 78,
   "metadata": {},
   "outputs": [
    {
     "data": {
      "text/plain": [
       "[0.49729748394005446, 0.8992195453003053]"
      ]
     },
     "execution_count": 78,
     "metadata": {},
     "output_type": "execute_result"
    }
   ],
   "source": [
    "score"
   ]
  },
  {
   "cell_type": "markdown",
   "metadata": {},
   "source": [
    "<p>Although our model converges faster to best accuracy still we cannot go above 90 % .</p>"
   ]
  },
  {
   "cell_type": "markdown",
   "metadata": {},
   "source": [
    "# Conclusions"
   ]
  },
  {
   "cell_type": "markdown",
   "metadata": {},
   "source": [
    "Some of the conclusions are tabulated as given below."
   ]
  },
  {
   "cell_type": "markdown",
   "metadata": {},
   "source": [
    "<table style=\"width:100%\">\n",
    "    <tr>\n",
    "    <th>Model No</th>\n",
    "    <th>Number of Lstm Layers</th> \n",
    "    <th>Number of Lstm Units</th>\n",
    "    <th>Dropout Rate</th>\n",
    "    <th>Loss</th>\n",
    "    <th>Accuracy</th>\n",
    "  </tr>\n",
    "    <tr>\n",
    "    <th>1</th>\n",
    "    <th>1</th> \n",
    "    <th>32</th>\n",
    "    <th>0.5</th>\n",
    "    <th>0.3087</th>\n",
    "    <th>90%</th>\n",
    "  </tr>\n",
    "     <tr>\n",
    "    <th>2</th>\n",
    "    <th>1</th> \n",
    "    <th>40</th>\n",
    "    <th>0.5</th>\n",
    "    <th>0.20</th>\n",
    "    <th>92%</th>\n",
    "  </tr>\n",
    "    <tr>\n",
    "    <th>3</th>\n",
    "    <th>1</th> \n",
    "    <th>40</th>\n",
    "    <th>0.8</th>\n",
    "    <th>0.321</th>\n",
    "    <th>89.65%</th>\n",
    "  </tr>\n",
    "     <tr>\n",
    "    <th>4</th>\n",
    "    <th>2</th> \n",
    "    <th>40</th>\n",
    "    <th>0.6</th>\n",
    "    <th>0.49</th>\n",
    "    <th>90%</th>\n",
    "  </tr>\n",
    "</table>"
   ]
  },
  {
   "cell_type": "markdown",
   "metadata": {},
   "source": [
    "<p> 1 . Lstms are costly to train. </p>\n",
    "<p> 2. With Increase in Lstm units the performance of Lstm can improve but it is not guaranteed as we have to keep other things into consideration like dropouts </p>\n",
    "<p> 3. Dropout rate should be properly regulated otherwise we could easily overfit or underfit</p>\n",
    "<p> 4. As Number of Layers in Lstm Unit Increases it becomes more expensive to train and hence tuning hyperparameter is not so easy.</p>\n",
    "<p> 5. With Enough of compute power we can define nice parameter space and Hyper tune our Lstm model </p>"
   ]
  },
  {
   "cell_type": "code",
   "execution_count": null,
   "metadata": {},
   "outputs": [],
   "source": []
  }
 ],
 "metadata": {
  "kernelspec": {
   "display_name": "Python 3",
   "language": "python",
   "name": "python3"
  },
  "language_info": {
   "codemirror_mode": {
    "name": "ipython",
    "version": 3
   },
   "file_extension": ".py",
   "mimetype": "text/x-python",
   "name": "python",
   "nbconvert_exporter": "python",
   "pygments_lexer": "ipython3",
   "version": "3.6.6"
  }
 },
 "nbformat": 4,
 "nbformat_minor": 2
}
