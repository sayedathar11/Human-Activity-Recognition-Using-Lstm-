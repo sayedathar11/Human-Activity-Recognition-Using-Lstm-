{
 "cells": [
  {
   "cell_type": "code",
   "execution_count": 1,
   "metadata": {
    "collapsed": true
   },
   "outputs": [],
   "source": [
    "# Importing Libraries"
   ]
  },
  {
   "cell_type": "code",
   "execution_count": 1,
   "metadata": {},
   "outputs": [],
   "source": [
    "import pandas as pd\n",
    "import numpy as np"
   ]
  },
  {
   "cell_type": "code",
   "execution_count": 2,
   "metadata": {},
   "outputs": [],
   "source": [
    "# Activities are the class labels\n",
    "# It is a 6 class classification\n",
    "ACTIVITIES = {\n",
    "    0: 'WALKING',\n",
    "    1: 'WALKING_UPSTAIRS',\n",
    "    2: 'WALKING_DOWNSTAIRS',\n",
    "    3: 'SITTING',\n",
    "    4: 'STANDING',\n",
    "    5: 'LAYING',\n",
    "}\n",
    "\n",
    "# Utility function to print the confusion matrix\n",
    "def confusion_matrix(Y_true, Y_pred):\n",
    "    Y_true = pd.Series([ACTIVITIES[y] for y in np.argmax(Y_true, axis=1)])\n",
    "    Y_pred = pd.Series([ACTIVITIES[y] for y in np.argmax(Y_pred, axis=1)])\n",
    "\n",
    "    return pd.crosstab(Y_true, Y_pred, rownames=['True'], colnames=['Pred'])"
   ]
  },
  {
   "cell_type": "markdown",
   "metadata": {},
   "source": [
    "### Data"
   ]
  },
  {
   "cell_type": "code",
   "execution_count": 3,
   "metadata": {},
   "outputs": [],
   "source": [
    "# Data directory\n",
    "DATADIR = 'UCI_HAR_Dataset'"
   ]
  },
  {
   "cell_type": "code",
   "execution_count": 4,
   "metadata": {},
   "outputs": [],
   "source": [
    "# Raw data signals\n",
    "# Signals are from Accelerometer and Gyroscope\n",
    "# The signals are in x,y,z directions\n",
    "# Sensor signals are filtered to have only body acceleration\n",
    "# excluding the acceleration due to gravity\n",
    "# Triaxial acceleration from the accelerometer is total acceleration\n",
    "SIGNALS = [\n",
    "    \"body_acc_x\",\n",
    "    \"body_acc_y\",\n",
    "    \"body_acc_z\",\n",
    "    \"body_gyro_x\",\n",
    "    \"body_gyro_y\",\n",
    "    \"body_gyro_z\",\n",
    "    \"total_acc_x\",\n",
    "    \"total_acc_y\",\n",
    "    \"total_acc_z\"\n",
    "]"
   ]
  },
  {
   "cell_type": "code",
   "execution_count": 5,
   "metadata": {},
   "outputs": [],
   "source": [
    "# Utility function to read the data from csv file\n",
    "def _read_csv(filename):\n",
    "    return pd.read_csv(filename, delim_whitespace=True, header=None)\n",
    "\n",
    "# Utility function to load the load\n",
    "def load_signals(subset):\n",
    "    signals_data = []\n",
    "\n",
    "    for signal in SIGNALS:\n",
    "        filename = f'UCI_HAR_Dataset/{subset}/Inertial Signals/{signal}_{subset}.txt'\n",
    "        signals_data.append(\n",
    "            _read_csv(filename).as_matrix()\n",
    "        ) \n",
    "\n",
    "    # Transpose is used to change the dimensionality of the output,\n",
    "    # aggregating the signals by combination of sample/timestep.\n",
    "    # Resultant shape is (7352 train/2947 test samples, 128 timesteps, 9 signals)\n",
    "    return np.transpose(signals_data, (1, 2, 0))"
   ]
  },
  {
   "cell_type": "code",
   "execution_count": 6,
   "metadata": {},
   "outputs": [],
   "source": [
    "\n",
    "def load_y(subset):\n",
    "    \"\"\"\n",
    "    The objective that we are trying to predict is a integer, from 1 to 6,\n",
    "    that represents a human activity. We return a binary representation of \n",
    "    every sample objective as a 6 bits vector using One Hot Encoding\n",
    "    (https://pandas.pydata.org/pandas-docs/stable/generated/pandas.get_dummies.html)\n",
    "    \"\"\"\n",
    "    filename = f'UCI_HAR_Dataset/{subset}/y_{subset}.txt'\n",
    "    y = _read_csv(filename)[0]\n",
    "\n",
    "    return pd.get_dummies(y).as_matrix()"
   ]
  },
  {
   "cell_type": "code",
   "execution_count": 7,
   "metadata": {},
   "outputs": [],
   "source": [
    "def load_data():\n",
    "    \"\"\"\n",
    "    Obtain the dataset from multiple files.\n",
    "    Returns: X_train, X_test, y_train, y_test\n",
    "    \"\"\"\n",
    "    X_train, X_test = load_signals('train'), load_signals('test')\n",
    "    y_train, y_test = load_y('train'), load_y('test')\n",
    "\n",
    "    return X_train, X_test, y_train, y_test"
   ]
  },
  {
   "cell_type": "code",
   "execution_count": 8,
   "metadata": {},
   "outputs": [],
   "source": [
    "# Importing tensorflow\n",
    "np.random.seed(42)\n",
    "import tensorflow as tf\n",
    "tf.set_random_seed(42)"
   ]
  },
  {
   "cell_type": "code",
   "execution_count": 9,
   "metadata": {},
   "outputs": [],
   "source": [
    "# Configuring a session\n",
    "session_conf = tf.ConfigProto(\n",
    "    intra_op_parallelism_threads=1,\n",
    "    inter_op_parallelism_threads=1\n",
    ")"
   ]
  },
  {
   "cell_type": "code",
   "execution_count": 12,
   "metadata": {},
   "outputs": [
    {
     "name": "stderr",
     "output_type": "stream",
     "text": [
      "Using TensorFlow backend.\n"
     ]
    }
   ],
   "source": [
    "# Import Keras\n",
    "from keras import backend as K\n",
    "sess = tf.Session(graph=tf.get_default_graph(), config=session_conf)\n",
    "K.set_session(sess)"
   ]
  },
  {
   "cell_type": "code",
   "execution_count": 13,
   "metadata": {},
   "outputs": [],
   "source": [
    "# Importing libraries\n",
    "from keras.models import Sequential\n",
    "from keras.layers import LSTM\n",
    "from keras.layers.core import Dense, Dropout"
   ]
  },
  {
   "cell_type": "code",
   "execution_count": 14,
   "metadata": {},
   "outputs": [],
   "source": [
    "# Initializing parameters\n",
    "epochs = 30\n",
    "batch_size = 16\n",
    "n_hidden = 32"
   ]
  },
  {
   "cell_type": "code",
   "execution_count": 15,
   "metadata": {},
   "outputs": [],
   "source": [
    "# Utility function to count the number of classes\n",
    "def _count_classes(y):\n",
    "    return len(set([tuple(category) for category in y]))"
   ]
  },
  {
   "cell_type": "code",
   "execution_count": 16,
   "metadata": {},
   "outputs": [
    {
     "name": "stderr",
     "output_type": "stream",
     "text": [
      "E:\\anaconda\\envs\\tf18\\lib\\site-packages\\ipykernel_launcher.py:12: FutureWarning: Method .as_matrix will be removed in a future version. Use .values instead.\n",
      "  if sys.path[0] == '':\n"
     ]
    }
   ],
   "source": [
    "# Loading the train and test data\n",
    "X_train, X_test, Y_train, Y_test = load_data()"
   ]
  },
  {
   "cell_type": "code",
   "execution_count": 17,
   "metadata": {},
   "outputs": [
    {
     "name": "stdout",
     "output_type": "stream",
     "text": [
      "128\n",
      "9\n",
      "7352\n"
     ]
    }
   ],
   "source": [
    "timesteps = len(X_train[0])\n",
    "input_dim = len(X_train[0][0])\n",
    "n_classes = _count_classes(Y_train)\n",
    "\n",
    "print(timesteps)\n",
    "print(input_dim)\n",
    "print(len(X_train))"
   ]
  },
  {
   "cell_type": "markdown",
   "metadata": {},
   "source": [
    "- Defining the Architecture of LSTM"
   ]
  },
  {
   "cell_type": "code",
   "execution_count": 18,
   "metadata": {},
   "outputs": [
    {
     "name": "stdout",
     "output_type": "stream",
     "text": [
      "_________________________________________________________________\n",
      "Layer (type)                 Output Shape              Param #   \n",
      "=================================================================\n",
      "lstm_1 (LSTM)                (None, 32)                5376      \n",
      "_________________________________________________________________\n",
      "dropout_1 (Dropout)          (None, 32)                0         \n",
      "_________________________________________________________________\n",
      "dense_1 (Dense)              (None, 6)                 198       \n",
      "=================================================================\n",
      "Total params: 5,574\n",
      "Trainable params: 5,574\n",
      "Non-trainable params: 0\n",
      "_________________________________________________________________\n"
     ]
    }
   ],
   "source": [
    "# Initiliazing the sequential model\n",
    "model = Sequential()\n",
    "# Configuring the parameters\n",
    "model.add(LSTM(n_hidden, input_shape=(timesteps, input_dim)))\n",
    "# Adding a dropout layer\n",
    "model.add(Dropout(0.5))\n",
    "# Adding a dense output layer with sigmoid activation\n",
    "model.add(Dense(n_classes, activation='sigmoid'))\n",
    "model.summary()"
   ]
  },
  {
   "cell_type": "code",
   "execution_count": 19,
   "metadata": {},
   "outputs": [],
   "source": [
    "# Compiling the model\n",
    "model.compile(loss='categorical_crossentropy',\n",
    "              optimizer='Adam',\n",
    "              metrics=['accuracy'])"
   ]
  },
  {
   "cell_type": "code",
   "execution_count": 20,
   "metadata": {},
   "outputs": [
    {
     "name": "stdout",
     "output_type": "stream",
     "text": [
      "Train on 7352 samples, validate on 2947 samples\n",
      "Epoch 1/30\n",
      "7352/7352 [==============================] - 293s 40ms/step - loss: 1.3894 - acc: 0.4154 - val_loss: 1.3305 - val_acc: 0.4089\n",
      "Epoch 2/30\n",
      "7352/7352 [==============================] - 295s 40ms/step - loss: 1.1988 - acc: 0.4736 - val_loss: 1.1580 - val_acc: 0.5103\n",
      "Epoch 3/30\n",
      "7352/7352 [==============================] - 297s 40ms/step - loss: 1.2072 - acc: 0.4878 - val_loss: 1.1660 - val_acc: 0.4768\n",
      "Epoch 4/30\n",
      "7352/7352 [==============================] - 311s 42ms/step - loss: 1.1358 - acc: 0.4887 - val_loss: 1.0666 - val_acc: 0.4842\n",
      "Epoch 5/30\n",
      "7352/7352 [==============================] - 311s 42ms/step - loss: 1.0805 - acc: 0.4865 - val_loss: 1.1398 - val_acc: 0.4686\n",
      "Epoch 6/30\n",
      "7352/7352 [==============================] - 279s 38ms/step - loss: 1.0993 - acc: 0.5033 - val_loss: 1.0525 - val_acc: 0.5399\n",
      "Epoch 7/30\n",
      "7352/7352 [==============================] - 279s 38ms/step - loss: 0.8870 - acc: 0.5834 - val_loss: 0.8246 - val_acc: 0.5935\n",
      "Epoch 8/30\n",
      "7352/7352 [==============================] - 280s 38ms/step - loss: 0.7967 - acc: 0.6066 - val_loss: 0.7874 - val_acc: 0.6081\n",
      "Epoch 9/30\n",
      "7352/7352 [==============================] - 311s 42ms/step - loss: 0.7551 - acc: 0.6300 - val_loss: 0.7558 - val_acc: 0.6043\n",
      "Epoch 10/30\n",
      "7352/7352 [==============================] - 282s 38ms/step - loss: 0.8284 - acc: 0.6050 - val_loss: 0.8387 - val_acc: 0.5874\n",
      "Epoch 11/30\n",
      "7352/7352 [==============================] - 280s 38ms/step - loss: 0.7597 - acc: 0.6315 - val_loss: 0.8360 - val_acc: 0.5657\n",
      "Epoch 12/30\n",
      "7352/7352 [==============================] - 281s 38ms/step - loss: 0.7389 - acc: 0.6291 - val_loss: 0.7289 - val_acc: 0.5881\n",
      "Epoch 13/30\n",
      "7352/7352 [==============================] - 282s 38ms/step - loss: 0.7310 - acc: 0.6268 - val_loss: 0.8707 - val_acc: 0.5718\n",
      "Epoch 14/30\n",
      "7352/7352 [==============================] - 279s 38ms/step - loss: 0.7231 - acc: 0.6454 - val_loss: 0.7793 - val_acc: 0.5976\n",
      "Epoch 15/30\n",
      "7352/7352 [==============================] - 280s 38ms/step - loss: 0.7629 - acc: 0.6272 - val_loss: 1.0397 - val_acc: 0.5467\n",
      "Epoch 16/30\n",
      "7352/7352 [==============================] - 278s 38ms/step - loss: 0.9227 - acc: 0.5711 - val_loss: 0.8881 - val_acc: 0.5456\n",
      "Epoch 17/30\n",
      "7352/7352 [==============================] - 284s 39ms/step - loss: 0.7908 - acc: 0.6238 - val_loss: 0.7810 - val_acc: 0.5843\n",
      "Epoch 18/30\n",
      "7352/7352 [==============================] - 280s 38ms/step - loss: 0.9006 - acc: 0.5817 - val_loss: 0.8804 - val_acc: 0.5653\n",
      "Epoch 19/30\n",
      "7352/7352 [==============================] - 281s 38ms/step - loss: 0.7494 - acc: 0.6347 - val_loss: 0.7252 - val_acc: 0.6030\n",
      "Epoch 20/30\n",
      "7352/7352 [==============================] - 281s 38ms/step - loss: 0.6545 - acc: 0.6672 - val_loss: 0.7846 - val_acc: 0.6020\n",
      "Epoch 21/30\n",
      "7352/7352 [==============================] - 282s 38ms/step - loss: 0.6515 - acc: 0.6847 - val_loss: 0.7033 - val_acc: 0.6247\n",
      "Epoch 22/30\n",
      "7352/7352 [==============================] - 282s 38ms/step - loss: 0.6134 - acc: 0.7244 - val_loss: 0.6869 - val_acc: 0.6882\n",
      "Epoch 23/30\n",
      "7352/7352 [==============================] - 281s 38ms/step - loss: 0.7191 - acc: 0.7088 - val_loss: 0.7236 - val_acc: 0.7550\n",
      "Epoch 24/30\n",
      "7352/7352 [==============================] - 281s 38ms/step - loss: 0.5727 - acc: 0.7928 - val_loss: 0.5795 - val_acc: 0.8134\n",
      "Epoch 25/30\n",
      "7352/7352 [==============================] - 309s 42ms/step - loss: 0.4555 - acc: 0.8576 - val_loss: 0.5443 - val_acc: 0.8205\n",
      "Epoch 26/30\n",
      "7352/7352 [==============================] - 283s 39ms/step - loss: 0.4174 - acc: 0.8693 - val_loss: 0.6194 - val_acc: 0.8225\n",
      "Epoch 27/30\n",
      "7352/7352 [==============================] - 281s 38ms/step - loss: 0.3707 - acc: 0.8879 - val_loss: 0.4772 - val_acc: 0.8544\n",
      "Epoch 28/30\n",
      "7352/7352 [==============================] - 282s 38ms/step - loss: 0.3225 - acc: 0.9011 - val_loss: 0.6653 - val_acc: 0.8113\n",
      "Epoch 29/30\n",
      "7352/7352 [==============================] - 282s 38ms/step - loss: 0.3174 - acc: 0.8962 - val_loss: 0.4412 - val_acc: 0.8551\n",
      "Epoch 30/30\n",
      "7352/7352 [==============================] - 279s 38ms/step - loss: 0.3037 - acc: 0.8959 - val_loss: 0.4390 - val_acc: 0.8507\n"
     ]
    },
    {
     "data": {
      "text/plain": [
       "<keras.callbacks.History at 0xd4354fdf60>"
      ]
     },
     "execution_count": 20,
     "metadata": {},
     "output_type": "execute_result"
    }
   ],
   "source": [
    "# Training the model\n",
    "model.fit(X_train,\n",
    "          Y_train,\n",
    "          batch_size=batch_size,\n",
    "          validation_data=(X_test, Y_test),\n",
    "          epochs=epochs)"
   ]
  },
  {
   "cell_type": "code",
   "execution_count": 24,
   "metadata": {},
   "outputs": [
    {
     "name": "stdout",
     "output_type": "stream",
     "text": [
      "Pred                LAYING  SITTING  STANDING  WALKING  WALKING_DOWNSTAIRS  \\\n",
      "True                                                                         \n",
      "LAYING                 512        0        25        0                   0   \n",
      "SITTING                  3      410        75        0                   0   \n",
      "STANDING                 0       87       445        0                   0   \n",
      "WALKING                  0        0         0      481                   2   \n",
      "WALKING_DOWNSTAIRS       0        0         0        0                 382   \n",
      "WALKING_UPSTAIRS         0        0         0        2                  18   \n",
      "\n",
      "Pred                WALKING_UPSTAIRS  \n",
      "True                                  \n",
      "LAYING                             0  \n",
      "SITTING                            3  \n",
      "STANDING                           0  \n",
      "WALKING                           13  \n",
      "WALKING_DOWNSTAIRS                38  \n",
      "WALKING_UPSTAIRS                 451  \n"
     ]
    }
   ],
   "source": [
    "# Confusion Matrix\n",
    "print(confusion_matrix(Y_test, model.predict(X_test)))"
   ]
  },
  {
   "cell_type": "code",
   "execution_count": 27,
   "metadata": {},
   "outputs": [
    {
     "name": "stdout",
     "output_type": "stream",
     "text": [
      "2947/2947 [==============================] - 4s 2ms/step\n"
     ]
    }
   ],
   "source": [
    "score = model.evaluate(X_test, Y_test)"
   ]
  },
  {
   "cell_type": "code",
   "execution_count": 28,
   "metadata": {},
   "outputs": [
    {
     "data": {
      "text/plain": [
       "[0.3087582236972612, 0.9097387173396675]"
      ]
     },
     "execution_count": 28,
     "metadata": {},
     "output_type": "execute_result"
    }
   ],
   "source": [
    "score"
   ]
  },
  {
   "cell_type": "markdown",
   "metadata": {},
   "source": [
    "- With a simple 2 layer architecture we got 90.09% accuracy and a loss of 0.30\n",
    "- We can further imporve the performace with Hyperparameter tuning"
   ]
  }
 ],
 "metadata": {
  "kernelspec": {
   "display_name": "Python 3",
   "language": "python",
   "name": "python3"
  },
  "language_info": {
   "codemirror_mode": {
    "name": "ipython",
    "version": 3
   },
   "file_extension": ".py",
   "mimetype": "text/x-python",
   "name": "python",
   "nbconvert_exporter": "python",
   "pygments_lexer": "ipython3",
   "version": "3.6.6"
  }
 },
 "nbformat": 4,
 "nbformat_minor": 2
}
